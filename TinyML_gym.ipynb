{
  "nbformat": 4,
  "nbformat_minor": 0,
  "metadata": {
    "colab": {
      "name": "TinyML_gym.ipynb",
      "provenance": [],
      "collapsed_sections": [],
      "toc_visible": true
    },
    "kernelspec": {
      "name": "python3",
      "display_name": "Python 3"
    },
    "language_info": {
      "name": "python"
    },
    "accelerator": "GPU"
  },
  "cells": [
    {
      "cell_type": "markdown",
      "metadata": {
        "id": "7-55V9buZRgu"
      },
      "source": [
        "# Nouvelle section"
      ]
    },
    {
      "cell_type": "code",
      "metadata": {
        "id": "E9xKSHglaPiP"
      },
      "source": [
        "%tensorflow_version 2.x\n"
      ],
      "execution_count": 1,
      "outputs": []
    },
    {
      "cell_type": "code",
      "metadata": {
        "id": "gslxoF6YbolF",
        "colab": {
          "base_uri": "https://localhost:8080/"
        },
        "outputId": "23846788-62a9-443c-d2d2-7765ff6a983c"
      },
      "source": [
        "import matplotlib.pyplot as plt\n",
        "import numpy as np\n",
        "import pandas as pd\n",
        "import tensorflow as tf\n",
        "import os\n",
        "\n",
        "print(f\"TensorFlow version = {tf.__version__}\\n\")\n",
        "\n",
        "#seed for reproducing results\n",
        "SEED = 1337\n",
        "np.random.seed(SEED)\n",
        "tf.random.set_seed(SEED)\n",
        "\n",
        "# the list of gestures that data is available for\n",
        "GESTURES = [\n",
        "    \"biceps\",\n",
        "    \"shoulders\",\n",
        "    \"still\"\n",
        "]\n",
        "\n",
        "NAMES = [\n",
        "         \"me\",\n",
        "         \"mama\",\n",
        "         \"tata\"\n",
        "]\n",
        "\n",
        "SAMPLES_PER_GESTURE = 300\n",
        "\n",
        "NUM_GESTURES = len(GESTURES)\n",
        "\n",
        "# create a one-hot encoded matrix that is used in the output\n",
        "ONE_HOT_ENCODED_GESTURES = np.eye(NUM_GESTURES)\n",
        "print(ONE_HOT_ENCODED_GESTURES)"
      ],
      "execution_count": 2,
      "outputs": [
        {
          "output_type": "stream",
          "text": [
            "TensorFlow version = 2.4.1\n",
            "\n",
            "[[1. 0. 0.]\n",
            " [0. 1. 0.]\n",
            " [0. 0. 1.]]\n"
          ],
          "name": "stdout"
        }
      ]
    },
    {
      "cell_type": "code",
      "metadata": {
        "id": "MJ2Bj5gMboyT"
      },
      "source": [
        "\n",
        "inputs = []\n",
        "outputs = []\n"
      ],
      "execution_count": 3,
      "outputs": []
    },
    {
      "cell_type": "code",
      "metadata": {
        "colab": {
          "base_uri": "https://localhost:8080/"
        },
        "id": "x6cksNl0DlmP",
        "outputId": "7d8b8072-99d4-4161-e19d-207c9fbe24ae"
      },
      "source": [
        "\n",
        "# read each csv file \n",
        "for name in NAMES:\n",
        "  for gesture_index in range(NUM_GESTURES-1): #standing still is treated in another cell since this was independent of the person\n",
        "    gesture = GESTURES[gesture_index]\n",
        "    print(f\"Processing index {gesture_index} for gesture '{gesture}'.\")\n",
        "    \n",
        "    output = ONE_HOT_ENCODED_GESTURES[gesture_index]\n",
        "    \n",
        "    df = pd.read_csv(name + \"_\" + gesture + \".csv\", skip_blank_lines=True, delimiter=',').dropna()\n",
        "\n",
        "    # calculate the number of gestures\n",
        "    num_recordings = int(df.shape[0] / SAMPLES_PER_GESTURE)\n",
        "    \n",
        "    for i in range(num_recordings):\n",
        "      data = []\n",
        "      for j in range(SAMPLES_PER_GESTURE):\n",
        "        index = i * SAMPLES_PER_GESTURE + j\n",
        "\n",
        "\n",
        "        if index + i % 300 != 0 or index + i == 0:\n",
        "          #print(df.iloc[index])\n",
        "          data.append([\n",
        "              df['aX'][index+i],\n",
        "              df['aY'][index+i], \n",
        "              df['aZ'][index+i], \n",
        "              df['gX'][index+i], \n",
        "              df['gY'][index+i], \n",
        "              df['gZ'][index+i] \n",
        "          ])\n",
        "    \n",
        "      inputs.append(np.array(data))\n",
        "      outputs.append(output)\n",
        "print(\"Done reading gestures dependent on person\")"
      ],
      "execution_count": 4,
      "outputs": [
        {
          "output_type": "stream",
          "text": [
            "Processing index 0 for gesture 'biceps'.\n",
            "Processing index 1 for gesture 'shoulders'.\n",
            "Processing index 0 for gesture 'biceps'.\n",
            "Processing index 1 for gesture 'shoulders'.\n",
            "Processing index 0 for gesture 'biceps'.\n",
            "Processing index 1 for gesture 'shoulders'.\n",
            "Done reading gestures dependent on person\n"
          ],
          "name": "stdout"
        }
      ]
    },
    {
      "cell_type": "code",
      "metadata": {
        "colab": {
          "base_uri": "https://localhost:8080/"
        },
        "id": "gJiIXTUTClTI",
        "outputId": "08767a3a-c8b1-40fc-d44f-4b1ccb34c7a3"
      },
      "source": [
        "\n",
        "gesture = \"still\"\n",
        "\n",
        "output = ONE_HOT_ENCODED_GESTURES[2]\n",
        "still_gesture_read = 0\n",
        "\n",
        "df = pd.read_csv(gesture + \".csv\", skip_blank_lines=True, delimiter=',').dropna()\n",
        "still_gesture_read = 1\n",
        "# calculate the number of gesture recordings in the file\n",
        "num_recordings = int(df.shape[0] / SAMPLES_PER_GESTURE)\n",
        "\n",
        "print(f\"\\tThere are {num_recordings} recordings of the {gesture} gesture.\")\n",
        "\n",
        "for i in range(num_recordings):\n",
        "  data = []\n",
        "  for j in range(SAMPLES_PER_GESTURE):\n",
        "    index = i * SAMPLES_PER_GESTURE + j\n",
        "\n",
        "    if index + i % 300 != 0 or index + i == 0: #because of the new line between each 300 sample entry\n",
        "      #print(df.iloc[index])\n",
        "          data.append([\n",
        "              df['aX'][index+i],\n",
        "              df['aY'][index+i], \n",
        "              df['aZ'][index+i], \n",
        "              df['gX'][index+i], \n",
        "              df['gY'][index+i], \n",
        "              df['gZ'][index+i] \n",
        "          ])\n",
        "\n",
        "  inputs.append(np.array(data))\n",
        "  outputs.append(output)\n",
        "# convert inputs and outputs to np.arrays one inputs were processed\n",
        "inputs = np.array(inputs)\n",
        "outputs = np.array(outputs)\n",
        "\n",
        "print(\"Whole data read\")"
      ],
      "execution_count": 5,
      "outputs": [
        {
          "output_type": "stream",
          "text": [
            "\tThere are 54 recordings of the still gesture.\n",
            "Whole data read\n"
          ],
          "name": "stdout"
        }
      ]
    },
    {
      "cell_type": "code",
      "metadata": {
        "id": "MuWtwlSBDXyX"
      },
      "source": [
        "def generate_random_data(data_points, label=np.array([0., 0., 1.])): #data points represent how many samples of random moves to generate\n",
        "  random_data = []\n",
        "  labels = np.array([label for _ in range(data_points)])\n",
        "  for _ in range(data_points):\n",
        "    acc_random = np.random.uniform(low=-4, high=4, size=[SAMPLES_PER_GESTURE, 3])\n",
        "    gyro_random = np.random.uniform(low=-2000, high=2000, size=[SAMPLES_PER_GESTURE, 3])\n",
        "    random_data.append(np.concatenate([acc_random, gyro_random], axis=1)) #concatenate gyro and acc to have whole entry\n",
        "  \n",
        "  return np.array(random_data), labels"
      ],
      "execution_count": 6,
      "outputs": []
    },
    {
      "cell_type": "code",
      "metadata": {
        "id": "ARnejQFKJg_x"
      },
      "source": [
        "def augment_data_with_noise(data, labels): #add noise to data\n",
        "  noisy_data = [] \n",
        "  noisy_labels = []\n",
        "  for i in range(data.shape[0]):\n",
        "    acc_noisy_data = np.zeros_like(data[0])\n",
        "    gyro_noisy_data = np.zeros_like(data[0])\n",
        "    for _ in range(10): #10 new entries from each given entry\n",
        "      acc_noise = np.random.normal(loc = 0, scale = 1, size=[300,3])\n",
        "      gyro_noise = np.random.normal(loc = 0, scale = 2, size=[300,3]) #different scale because gyro values are between -2k -> +2k\n",
        "      acc_noisy_data = inputs[i, :, 0:3] + acc_noise #add noise acc\n",
        "      gyro_noisy_data = inputs[i, :, 3:] + gyro_noise #add noise gyro\n",
        "      noisy_data.append(np.concatenate([acc_noisy_data, gyro_noisy_data], axis=1)) #concatenate new entry \n",
        "      noisy_labels.append(labels[i]) #label stayed the same, just noise added\n",
        "\n",
        "  noisy_data = np.array(noisy_data)\n",
        "  noisy_labels = np.array(noisy_labels)\n",
        "\n",
        "  return (noisy_data, noisy_labels)\n",
        "\n",
        "def augment_data_amplify(data, labels, ratios = [(2, 3), (5, 6), (8,9), (9, 8), (6, 5), (3, 2)]):\n",
        "  amplified_data = []\n",
        "  amplified_labels = []\n",
        "  for i in range(data.shape[0]):\n",
        "    for ratio in ratios:\n",
        "      amplified_data.append((data[i]*ratio[0])/ratio[1]) #amplify or deamplify each movement\n",
        "      amplified_labels.append(labels[i])\n",
        "  amplified_data = np.array(amplified_data)\n",
        "  amplified_labels = np.array(amplified_labels)\n",
        "\n",
        "  return amplified_data, amplified_labels"
      ],
      "execution_count": 7,
      "outputs": []
    },
    {
      "cell_type": "code",
      "metadata": {
        "id": "8HcgJIzuqRoN"
      },
      "source": [
        "noisy_data, noisy_labels = augment_data_with_noise(inputs, outputs)\n",
        "amplified_data, amplified_labels = augment_data_amplify(inputs, outputs)\n",
        "random_data, random_labels = generate_random_data(500)\n",
        "\n",
        "new_inputs = np.concatenate([inputs, noisy_data, amplified_data, random_data], axis = 0) #add to dataset\n",
        "new_outputs = np.concatenate([outputs, noisy_labels, amplified_labels, random_labels], axis = 0) #add to dataset\n"
      ],
      "execution_count": 8,
      "outputs": []
    },
    {
      "cell_type": "code",
      "metadata": {
        "colab": {
          "base_uri": "https://localhost:8080/"
        },
        "id": "tEHUyLuILSmb",
        "outputId": "38ddcefe-5d6b-417b-da6c-2b9873db0697"
      },
      "source": [
        "#check inputs and outputs shapes\n",
        "print(new_inputs.shape)\n",
        "print(new_outputs.shape)"
      ],
      "execution_count": 9,
      "outputs": [
        {
          "output_type": "stream",
          "text": [
            "(7028, 300, 6)\n",
            "(7028, 3)\n"
          ],
          "name": "stdout"
        }
      ]
    },
    {
      "cell_type": "code",
      "metadata": {
        "colab": {
          "base_uri": "https://localhost:8080/"
        },
        "id": "tYrGU_MHqQ3F",
        "outputId": "62d7bc62-ecb2-47c8-e93b-a330cd4336a7"
      },
      "source": [
        "print(np.sum(new_outputs, axis=0)) #number of entries per gesture type"
      ],
      "execution_count": 10,
      "outputs": [
        {
          "output_type": "stream",
          "text": [
            "[3213. 2397. 1418.]\n"
          ],
          "name": "stdout"
        }
      ]
    },
    {
      "cell_type": "code",
      "metadata": {
        "id": "XTxB-UGGdviz"
      },
      "source": [
        "all_data_train = new_inputs.reshape((new_inputs.shape[0], 300, 6, 1)) #reshaping for tf"
      ],
      "execution_count": 11,
      "outputs": []
    },
    {
      "cell_type": "code",
      "metadata": {
        "colab": {
          "base_uri": "https://localhost:8080/"
        },
        "id": "G8tM1rxpI5Ys",
        "outputId": "65a35852-dfcd-4ac5-9328-ce52a8e2b6d4"
      },
      "source": [
        "print(all_data_train.shape)"
      ],
      "execution_count": 12,
      "outputs": [
        {
          "output_type": "stream",
          "text": [
            "(7028, 300, 6, 1)\n"
          ],
          "name": "stdout"
        }
      ]
    },
    {
      "cell_type": "code",
      "metadata": {
        "id": "BjoRLMr1JWB-"
      },
      "source": [
        "def define_model():\n",
        "  model = tf.keras.Sequential([ #input shape = (batch, 300, 6, 1)\n",
        "  tf.keras.layers.Conv2D(8, (8, 6), name=\"Conv1\", padding=\"same\",activation=\"relu\",\\\n",
        "  input_shape=(SAMPLES_PER_GESTURE, 6, 1)),\n",
        "  tf.keras.layers.MaxPool2D((3, 3), name=\"MAXPool1\"),\n",
        "  tf.keras.layers.Dropout(0.1), \n",
        "  tf.keras.layers.Conv2D(8, (4, 1), padding=\"same\", activation=\"relu\", name=\"Conv2\"),\n",
        "  tf.keras.layers.MaxPool2D((3, 1), padding=\"same\", name=\"MAXPool2\"),\n",
        "  tf.keras.layers.Dropout(0.1),\n",
        "  tf.keras.layers.Flatten(name=\"Flatten\"),\n",
        "  tf.keras.layers.Dense(16, activation=\"relu\", name=\"Dense1\"),\n",
        "  tf.keras.layers.Dense(3, activation=\"softmax\", name=\"Output\")\n",
        "  ])\n",
        "\n",
        "  model.compile(optimizer='adam', loss='categorical_crossentropy', metrics=['accuracy'])\n",
        "\n",
        "  return model\n"
      ],
      "execution_count": 13,
      "outputs": []
    },
    {
      "cell_type": "code",
      "metadata": {
        "id": "7Lrbtr171iMh"
      },
      "source": [
        "import datetime\n",
        "logdir = \"logs/scalars/\" + datetime.datetime.now().strftime(\"%Y%m%d-%H%M%S\")\n",
        "tensorboard_callback = tf.keras.callbacks.TensorBoard(log_dir=logdir)"
      ],
      "execution_count": 14,
      "outputs": []
    },
    {
      "cell_type": "code",
      "metadata": {
        "id": "ABRv8ERclldq"
      },
      "source": [
        "from sklearn.model_selection import StratifiedKFold\n",
        "# evaluate a model using k-fold cross-validation\n",
        "def evaluate_model(dataX, dataY, new_Y, n_folds=5):\n",
        "\tscores, histories = list(), list()\n",
        "\t# prepare cross validation\n",
        "\tkfold = StratifiedKFold(n_folds, shuffle=True, random_state=1)\n",
        "\t# enumerate splits\n",
        "\tfor train_ix, test_ix in kfold.split(dataX, new_Y):\n",
        "\t\t# define model\n",
        "\t\tmodel = define_model()\n",
        "\t\t# select rows for train and test\n",
        "\t\ttrainX, trainY, testX, testY = dataX[train_ix], dataY[train_ix], dataX[test_ix], dataY[test_ix]\n",
        "\t\t# fit model\n",
        "\t\thistory = model.fit(trainX, trainY, epochs=5, batch_size=64, validation_data=(testX, testY), verbose=1, callbacks=[tensorboard_callback])\n",
        "\t\t# evaluate model\n",
        "\t\t_, acc = model.evaluate(testX, testY, verbose=0)\n",
        "\t\tprint('> %.3f' % (acc * 100.0))\n",
        "\t\t# stores scores\n",
        "\t\tscores.append(acc)\n",
        "\t\thistories.append(history)\n",
        "\treturn scores, histories"
      ],
      "execution_count": 21,
      "outputs": []
    },
    {
      "cell_type": "code",
      "metadata": {
        "id": "yL-iR-ZvllgY"
      },
      "source": [
        "def revert_one_hot(data):\n",
        "  new_data = np.array([0 for i in range(len(data))])\n",
        "  for i in range(len(data)):\n",
        "    for j in range(len(GESTURES)):\n",
        "      if data[i][j] == 1:\n",
        "        new_data[i] = j\n",
        "\n",
        "  return new_data\n",
        "\n",
        "new_data_train_Y = revert_one_hot(new_outputs)"
      ],
      "execution_count": 22,
      "outputs": []
    },
    {
      "cell_type": "code",
      "metadata": {
        "id": "_wz6nB6r1gJG",
        "colab": {
          "base_uri": "https://localhost:8080/"
        },
        "outputId": "f5724aae-e618-4215-c781-130b7ba46e0d"
      },
      "source": [
        "model = define_model()\n",
        "evaluate_model(all_data_train, new_outputs, new_data_train_Y) #CV"
      ],
      "execution_count": 23,
      "outputs": [
        {
          "output_type": "stream",
          "text": [
            "Epoch 1/5\n",
            "88/88 [==============================] - 2s 13ms/step - loss: 5.7337 - accuracy: 0.6748 - val_loss: 0.0745 - val_accuracy: 0.9737\n",
            "Epoch 2/5\n",
            "88/88 [==============================] - 0s 5ms/step - loss: 0.1357 - accuracy: 0.9703 - val_loss: 0.0157 - val_accuracy: 0.9936\n",
            "Epoch 3/5\n",
            "88/88 [==============================] - 0s 5ms/step - loss: 0.0438 - accuracy: 0.9865 - val_loss: 0.0094 - val_accuracy: 0.9979\n",
            "Epoch 4/5\n",
            "88/88 [==============================] - 0s 5ms/step - loss: 0.0199 - accuracy: 0.9907 - val_loss: 0.0080 - val_accuracy: 0.9979\n",
            "Epoch 5/5\n",
            "88/88 [==============================] - 0s 5ms/step - loss: 0.0090 - accuracy: 0.9976 - val_loss: 0.0053 - val_accuracy: 0.9993\n",
            "> 99.929\n",
            "Epoch 1/5\n",
            "88/88 [==============================] - 2s 13ms/step - loss: 8.7806 - accuracy: 0.5367 - val_loss: 0.1995 - val_accuracy: 0.9474\n",
            "Epoch 2/5\n",
            "88/88 [==============================] - 0s 5ms/step - loss: 0.2875 - accuracy: 0.9399 - val_loss: 0.0850 - val_accuracy: 0.9844\n",
            "Epoch 3/5\n",
            "88/88 [==============================] - 0s 5ms/step - loss: 0.0877 - accuracy: 0.9802 - val_loss: 0.0663 - val_accuracy: 0.9900\n",
            "Epoch 4/5\n",
            "88/88 [==============================] - 0s 5ms/step - loss: 0.0594 - accuracy: 0.9845 - val_loss: 0.0328 - val_accuracy: 0.9936\n",
            "Epoch 5/5\n",
            "88/88 [==============================] - 0s 5ms/step - loss: 0.0378 - accuracy: 0.9914 - val_loss: 0.0164 - val_accuracy: 0.9972\n",
            "> 99.716\n",
            "Epoch 1/5\n",
            "88/88 [==============================] - 2s 13ms/step - loss: 4.0255 - accuracy: 0.6585 - val_loss: 0.1727 - val_accuracy: 0.9282\n",
            "Epoch 2/5\n",
            "88/88 [==============================] - 0s 5ms/step - loss: 0.0776 - accuracy: 0.9691 - val_loss: 0.0486 - val_accuracy: 0.9829\n",
            "Epoch 3/5\n",
            "88/88 [==============================] - 0s 5ms/step - loss: 0.0276 - accuracy: 0.9870 - val_loss: 0.0425 - val_accuracy: 0.9851\n",
            "Epoch 4/5\n",
            "88/88 [==============================] - 0s 5ms/step - loss: 0.0172 - accuracy: 0.9929 - val_loss: 0.0240 - val_accuracy: 0.9964\n",
            "Epoch 5/5\n",
            "88/88 [==============================] - 0s 5ms/step - loss: 0.0134 - accuracy: 0.9952 - val_loss: 0.0320 - val_accuracy: 0.9908\n",
            "> 99.075\n",
            "Epoch 1/5\n",
            "88/88 [==============================] - 2s 13ms/step - loss: 7.3170 - accuracy: 0.5756 - val_loss: 0.3659 - val_accuracy: 0.8541\n",
            "Epoch 2/5\n",
            "88/88 [==============================] - 0s 5ms/step - loss: 0.3903 - accuracy: 0.8718 - val_loss: 0.1370 - val_accuracy: 0.9872\n",
            "Epoch 3/5\n",
            "88/88 [==============================] - 0s 5ms/step - loss: 0.0881 - accuracy: 0.9842 - val_loss: 0.0854 - val_accuracy: 0.9879\n",
            "Epoch 4/5\n",
            "88/88 [==============================] - 0s 5ms/step - loss: 0.0565 - accuracy: 0.9876 - val_loss: 0.0233 - val_accuracy: 1.0000\n",
            "Epoch 5/5\n",
            "88/88 [==============================] - 0s 4ms/step - loss: 0.0160 - accuracy: 0.9960 - val_loss: 0.0108 - val_accuracy: 1.0000\n",
            "> 100.000\n",
            "Epoch 1/5\n",
            "88/88 [==============================] - 2s 13ms/step - loss: 13.4852 - accuracy: 0.4895 - val_loss: 0.4274 - val_accuracy: 0.8356\n",
            "Epoch 2/5\n",
            "88/88 [==============================] - 0s 5ms/step - loss: 0.5514 - accuracy: 0.8367 - val_loss: 0.2561 - val_accuracy: 0.8996\n",
            "Epoch 3/5\n",
            "88/88 [==============================] - 0s 5ms/step - loss: 0.2336 - accuracy: 0.9218 - val_loss: 0.0488 - val_accuracy: 0.9915\n",
            "Epoch 4/5\n",
            "88/88 [==============================] - 0s 5ms/step - loss: 0.1151 - accuracy: 0.9748 - val_loss: 0.0281 - val_accuracy: 0.9929\n",
            "Epoch 5/5\n",
            "88/88 [==============================] - 0s 5ms/step - loss: 0.0728 - accuracy: 0.9821 - val_loss: 0.0288 - val_accuracy: 0.9929\n",
            "> 99.288\n"
          ],
          "name": "stdout"
        },
        {
          "output_type": "execute_result",
          "data": {
            "text/plain": [
              "([0.9992887377738953,\n",
              "  0.9971550703048706,\n",
              "  0.9907538890838623,\n",
              "  1.0,\n",
              "  0.9928825497627258],\n",
              " [<tensorflow.python.keras.callbacks.History at 0x7f07ee1ed290>,\n",
              "  <tensorflow.python.keras.callbacks.History at 0x7f07ee050ad0>,\n",
              "  <tensorflow.python.keras.callbacks.History at 0x7f080a553810>,\n",
              "  <tensorflow.python.keras.callbacks.History at 0x7f079e497ad0>,\n",
              "  <tensorflow.python.keras.callbacks.History at 0x7f079e2d32d0>])"
            ]
          },
          "metadata": {
            "tags": []
          },
          "execution_count": 23
        }
      ]
    },
    {
      "cell_type": "markdown",
      "metadata": {
        "id": "FYYTJtvmrg3S"
      },
      "source": [
        ""
      ]
    },
    {
      "cell_type": "code",
      "metadata": {
        "id": "K_zkf3d5llim",
        "colab": {
          "base_uri": "https://localhost:8080/"
        },
        "outputId": "f7597268-5b22-4f19-ce44-07f33496ff7e"
      },
      "source": [
        "model = define_model()\n",
        "model.fit(all_data_train, new_outputs, epochs = 10, batch_size = 64, verbose=1)"
      ],
      "execution_count": 24,
      "outputs": [
        {
          "output_type": "stream",
          "text": [
            "Epoch 1/10\n",
            "110/110 [==============================] - 1s 5ms/step - loss: 5.2880 - accuracy: 0.6305\n",
            "Epoch 2/10\n",
            "110/110 [==============================] - 0s 4ms/step - loss: 0.2300 - accuracy: 0.9633\n",
            "Epoch 3/10\n",
            "110/110 [==============================] - 0s 4ms/step - loss: 0.0324 - accuracy: 0.9878\n",
            "Epoch 4/10\n",
            "110/110 [==============================] - 0s 4ms/step - loss: 0.0241 - accuracy: 0.9901\n",
            "Epoch 5/10\n",
            "110/110 [==============================] - 0s 4ms/step - loss: 0.0178 - accuracy: 0.9951\n",
            "Epoch 6/10\n",
            "110/110 [==============================] - 0s 3ms/step - loss: 0.0083 - accuracy: 0.9973\n",
            "Epoch 7/10\n",
            "110/110 [==============================] - 0s 4ms/step - loss: 0.0097 - accuracy: 0.9972\n",
            "Epoch 8/10\n",
            "110/110 [==============================] - 0s 3ms/step - loss: 0.0062 - accuracy: 0.9989\n",
            "Epoch 9/10\n",
            "110/110 [==============================] - 0s 4ms/step - loss: 0.0069 - accuracy: 0.9990\n",
            "Epoch 10/10\n",
            "110/110 [==============================] - 0s 4ms/step - loss: 0.0035 - accuracy: 0.9997\n"
          ],
          "name": "stdout"
        },
        {
          "output_type": "execute_result",
          "data": {
            "text/plain": [
              "<tensorflow.python.keras.callbacks.History at 0x7f079e148a90>"
            ]
          },
          "metadata": {
            "tags": []
          },
          "execution_count": 24
        }
      ]
    },
    {
      "cell_type": "code",
      "metadata": {
        "colab": {
          "base_uri": "https://localhost:8080/"
        },
        "id": "UTuLdUoRz-zs",
        "outputId": "9a042650-6d9c-498b-f8cb-8bace908c360"
      },
      "source": [
        "converter = tf.lite.TFLiteConverter.from_keras_model(model)\n",
        "tflite_model = converter.convert()\n",
        "\n",
        "# Save the model to disk\n",
        "open(\"gym_model.tflite\", \"wb\").write(tflite_model)\n",
        "  \n",
        "import os\n",
        "basic_model_size = os.path.getsize(\"gym_model.tflite\")\n",
        "print(\"Model is %d bytes\" % basic_model_size)"
      ],
      "execution_count": 25,
      "outputs": [
        {
          "output_type": "stream",
          "text": [
            "INFO:tensorflow:Assets written to: /tmp/tmpjywyip9v/assets\n",
            "Model is 40852 bytes\n"
          ],
          "name": "stdout"
        }
      ]
    },
    {
      "cell_type": "code",
      "metadata": {
        "colab": {
          "base_uri": "https://localhost:8080/"
        },
        "id": "GPotP1Rw0Zrs",
        "outputId": "f68179ff-d7e2-49a9-de9d-164a9d7e5a59"
      },
      "source": [
        "! apt-get -qq install xxd\n",
        "\n",
        "\n",
        "!echo \"const unsigned char gym_model_data[] = {\" > /content/model.h\n",
        "!cat gym_model.tflite | xxd -i      >> /content/model.h\n",
        "!echo \"};\"                              >> /content/model.h\n",
        "\n",
        "import os\n",
        "model_h_size = os.path.getsize(\"model.h\")\n",
        "print(f\"Header file, model.h, is {model_h_size:,} bytes.\")\n",
        "print(\"\\nOpen the side panel (refresh if needed). Double click model.h to download the file.\")"
      ],
      "execution_count": 26,
      "outputs": [
        {
          "output_type": "stream",
          "text": [
            "Selecting previously unselected package xxd.\n",
            "(Reading database ... 160706 files and directories currently installed.)\n",
            "Preparing to unpack .../xxd_2%3a8.0.1453-1ubuntu1.4_amd64.deb ...\n",
            "Unpacking xxd (2:8.0.1453-1ubuntu1.4) ...\n",
            "Setting up xxd (2:8.0.1453-1ubuntu1.4) ...\n",
            "Processing triggers for man-db (2.8.3-2ubuntu0.1) ...\n",
            "Header file, model.h, is 251,965 bytes.\n",
            "\n",
            "Open the side panel (refresh if needed). Double click model.h to download the file.\n"
          ],
          "name": "stdout"
        }
      ]
    },
    {
      "cell_type": "code",
      "metadata": {
        "id": "B-WoBFVh9dfY"
      },
      "source": [
        ""
      ],
      "execution_count": null,
      "outputs": []
    },
    {
      "cell_type": "markdown",
      "metadata": {
        "id": "c_-BRNo79eE5"
      },
      "source": [
        "Data visualization"
      ]
    },
    {
      "cell_type": "code",
      "metadata": {
        "colab": {
          "base_uri": "https://localhost:8080/",
          "height": 279
        },
        "id": "0ZVDGlEML7Aw",
        "outputId": "f7de5f0b-5001-46bc-a3d2-42b822074470"
      },
      "source": [
        "data = pd.read_csv(\"me_biceps.csv\")\n",
        "  \n",
        "# converting column data to list\n",
        "ax = data['aX'].tolist()\n",
        "ay = data['aY'].tolist()\n",
        "az = data['aZ'].tolist()\n",
        "gx = data['gX'].tolist()\n",
        "gy = data['gY'].tolist()\n",
        "gz = data['gZ'].tolist()  \n",
        "\n",
        "xr = range(300)\n",
        "plt.plot(xr, gx[:300])\n",
        "plt.plot(xr, gy[:300])\n",
        "plt.plot(xr, gz[:300])\n",
        "plt.legend([\"gX\", \"gY\", \"gZ\"])\n",
        "plt.grid()\n",
        "plt.ylabel(\"Gyroscope values\")\n",
        "plt.xlabel(\"Samples\")\n",
        "plt.savefig(\"gyro_biceps.png\")\n",
        "plt.show()\n"
      ],
      "execution_count": 30,
      "outputs": [
        {
          "output_type": "display_data",
          "data": {
            "image/png": "[encoded data removed]",
            "text/plain": [
              "<Figure size 432x288 with 1 Axes>"
            ]
          },
          "metadata": {
            "tags": [],
            "needs_background": "light"
          }
        }
      ]
    },
    {
      "cell_type": "code",
      "metadata": {
        "id": "sMFJ06fYhx6i"
      },
      "source": [
        ""
      ],
      "execution_count": null,
      "outputs": []
    },
    {
      "cell_type": "code",
      "metadata": {
        "colab": {
          "base_uri": "https://localhost:8080/",
          "height": 279
        },
        "id": "Ok8WehnnhRyD",
        "outputId": "8b1ec62d-472d-4a2e-985f-c2df4913cf0c"
      },
      "source": [
        "data = pd.read_csv(\"me_shoulders.csv\")\n",
        "  \n",
        "# converting column data to list\n",
        "ax = data['aX'].tolist()\n",
        "ay = data['aY'].tolist()\n",
        "az = data['aZ'].tolist()\n",
        "gx = data['gX'].tolist()\n",
        "gy = data['gY'].tolist()\n",
        "gz = data['gZ'].tolist()  \n",
        "\n",
        "# printing list data\n",
        "xr = range(300)\n",
        "plt.plot(xr, ax[:300])\n",
        "plt.plot(xr, ay[:300])\n",
        "plt.plot(xr, az[:300])\n",
        "plt.legend([\"aX\", \"aY\", \"aZ\"])\n",
        "plt.grid()\n",
        "plt.ylabel(\"Acceleration\")\n",
        "plt.xlabel(\"Samples\")\n",
        "plt.savefig(\"acc_shoulders.png\")\n",
        "plt.show()"
      ],
      "execution_count": 31,
      "outputs": [
        {
          "output_type": "display_data",
          "data": {
            "image/png": "[encoded data removed]",
            "text/plain": [
              "<Figure size 432x288 with 1 Axes>"
            ]
          },
          "metadata": {
            "tags": [],
            "needs_background": "light"
          }
        }
      ]
    },
    {
      "cell_type": "code",
      "metadata": {
        "colab": {
          "base_uri": "https://localhost:8080/",
          "height": 282
        },
        "id": "f7hpLNrjh0nW",
        "outputId": "26a09859-3bc2-4fad-ddbc-7fd8c32e88a6"
      },
      "source": [
        "plt.plot(xr, gx[:300])\n",
        "plt.plot(xr, gy[:300])\n",
        "plt.plot(xr, gz[:300])\n",
        "plt.legend([\"gX\", \"gY\", \"gZ\"])\n",
        "plt.grid()\n",
        "plt.ylabel(\"Gyroscope values\")\n",
        "plt.xlabel(\"Samples\")\n",
        "plt.savefig(\"gyro_shoulders.png\")\n",
        "plt.show()"
      ],
      "execution_count": 32,
      "outputs": [
        {
          "output_type": "display_data",
          "data": {
            "image/png": "[encoded data removed]",
            "text/plain": [
              "<Figure size 432x288 with 1 Axes>"
            ]
          },
          "metadata": {
            "tags": [],
            "needs_background": "light"
          }
        }
      ]
    }
  ]
}